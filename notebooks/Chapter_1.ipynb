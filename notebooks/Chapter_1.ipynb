{
  "nbformat": 4,
  "nbformat_minor": 0,
  "metadata": {
    "colab": {
      "name": "Chapter 1.ipynb",
      "provenance": [],
      "authorship_tag": "ABX9TyPn0vXlvU19n1p/iHFkw1J/",
      "include_colab_link": true
    },
    "kernelspec": {
      "name": "python3",
      "display_name": "Python 3"
    }
  },
  "cells": [
    {
      "cell_type": "markdown",
      "metadata": {
        "id": "view-in-github",
        "colab_type": "text"
      },
      "source": [
        "<a href=\"https://colab.research.google.com/github/Axolotl163/Forces-Between-Molecules/blob/master/notebooks/Chapter_1.ipynb\" target=\"_parent\"><img src=\"https://colab.research.google.com/assets/colab-badge.svg\" alt=\"Open In Colab\"/></a>"
      ]
    },
    {
      "cell_type": "markdown",
      "metadata": {
        "id": "2d78kBA7WFvw",
        "colab_type": "text"
      },
      "source": [
        "# Run For Imports :)"
      ]
    },
    {
      "cell_type": "code",
      "metadata": {
        "id": "NTydOnoMWBUq",
        "colab_type": "code",
        "colab": {}
      },
      "source": [
        "import numpy as np\n",
        "import scipy\n",
        "import plotly.express as px"
      ],
      "execution_count": 2,
      "outputs": []
    },
    {
      "cell_type": "markdown",
      "metadata": {
        "id": "o8ij-Cr8Egr3",
        "colab_type": "text"
      },
      "source": [
        "# The Nature of Intermolecular Forces\n",
        "\n",
        "## 1.1 Introduction\n",
        "The van der Waals equation is given by\n",
        "$$\\left(P + \\frac{a}{\\overline{V}^2} \\right)(\\overline{V}^2-b) = RT$$\n",
        "Where $a$ is the strength of molecular attraction, $b$ is proportional to the volume of molecules, $R$ is the gas constant, P is the pressure, and $\\overline{V}$ is the molar volume of the fluid.\n",
        "\n",
        "This highlights interactions of imperfect molecules in a fluid. This is kinda like an \"unideal gas law\". However, this is just an approximation.\n",
        "\n",
        "A more exact way to give this is in terms of intermolecular potential energy $U(r)$ which results from two molecules interacting at seperation $r$. The intermolecular force is then given as $F(r) = -\\frac{dU}{dr}$, or equivalently, $U(r)=\\int_r^\\infty F(r) dr$. Intuitively, this can be thought of as the work required to fight against intermolecular force to bring two bodies from distance $\\infty$ to $r$ [source](https://app.ph.qmul.ac.uk/wiki/_media/ajm:teaching:intermolecular_forces_angyan_part1.pdf)\n",
        "\n",
        "In general, we want to characterize the potential function $U$ in as few parameters as possible, often using: $\\sigma$ to denote where $U(r) = 0$ and the seperation $r_m$ where $U(r) = -\\epsilon$, a minimum. We graph $U(r)$ and $F(r)$ below using a simplified model known as the Leonard-Jones Potential\n",
        "\n",
        "It is helpful to have some sense of approximate magnitude. Using Trouton's rule, we can say that $\\Delta H_{\\text{vap}} \\approx 10RT_b$ where $R$ is the gas constant and $T_b$ is an arbitrary boiling point. We can take $\\Delta H_{\\text{vap}} = 10N_A\\frac{\\epsilon}{2}$ to be the force of seperation at $r_m$. Thus, $\\epsilon$ can be given as $2kT_b$ where $k$ is the equilibrium constant.\n"
      ]
    },
    {
      "cell_type": "code",
      "metadata": {
        "id": "DiQ6ZS9kEewf",
        "colab_type": "code",
        "colab": {}
      },
      "source": [
        "# These numbers are from an arbitrary problem \n",
        "# from the internet with argon or something idk\n",
        "epsilon = 5 # Measure of how strong particles attract in kj/mol\n",
        "sigma = 2.76 # van der waals radius in angstroms\n",
        "r = np.linspace(2.5, 10, num=250) # I picked this linspace so graph scaling is ok\n",
        "def LJP(r, sigma, epsilon):\n",
        "    return 4*epsilon*((sigma/r)**12 - (sigma/r)**6)\n",
        "\n",
        "U = LJP(r, sigma, epsilon)\n",
        "F = -np.gradient(U)\n",
        "\n",
        "fig = px.line(x=r, \n",
        "              y=U, \n",
        "              title=\"Leonard-Jones approx. Potential\", \n",
        "              labels={'x':'intermolecular radius in Angstroms', \n",
        "                      'y':'U(r) in Kilojoules per Mol'},\n",
        "              )\n",
        "fig.show()\n",
        "\n",
        "fig2 = px.line(x=r[10:], # So the scaling looks better \n",
        "               y=F[10:], \n",
        "               title=\"Leonard-Jones approx. Force\", \n",
        "               labels={'x':'intermolecular radius in Angstroms', \n",
        "                       'y':'F(r) in Kilojoules per Mol'},)\n",
        "fig2.show()"
      ],
      "execution_count": null,
      "outputs": []
    },
    {
      "cell_type": "markdown",
      "metadata": {
        "id": "6VIT0F-xWxa1",
        "colab_type": "text"
      },
      "source": [
        "## 1.2 Electrostatic Energy\n",
        "\n",
        "The distribution of charges within a molecule is generally described in terms of the multipole moments of the molecule.\n",
        "* The dipole arises when the centers of positive and negative charge do not concide. It is given charge $\\pm \\delta$ seperated by a distance $r$. The magnitude is thus $\\delta r$.\n",
        "* Polarity of symetrical bonds creates the next order of electrostatic charge, known as a fucking quadropole.\n",
        "\n",
        "Given two molecules $A$ and $B$ who have dipole and quadropole moments $\\mu_a, \\Theta_a$ and $\\mu_b, \\Theta_b$ at a seperation $r$ and with relative orientations given by $\\theta_A, \\theta_B$, and  $\\phi$, their interaction energy may be given as\n",
        "$$U_{AB} = \\frac{\\mu_a\\mu_b}{4\\pi\\epsilon_0 r^3}f_1(\\theta_A, \\theta_B, \\phi)+ \\frac{\\mu_a\\Theta_B}{4\\pi\\epsilon_0 r^4}f_2(\\theta_A, \\theta_B, \\phi)\n",
        "- \\frac{\\mu_b\\Theta_a}{4\\pi\\epsilon_0 r^4}f_2(\\theta_A, \\theta_B, \\phi)\n",
        "+ \\frac{\\Theta_a\\Theta_b}{4\\pi\\epsilon_0 r^5}f_3(\\theta_A, \\theta_B, \\phi)$$\n",
        "\n",
        "Okokokok slow down there, let's make sense of this."
      ]
    }
  ]
}